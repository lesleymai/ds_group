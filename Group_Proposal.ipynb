{
 "cells": [
  {
   "cell_type": "markdown",
   "id": "29f8b644-38f4-4113-aeb1-ec117ab1e202",
   "metadata": {},
   "source": [
    "# Designing a Predictive Model for Students’ Dropout and Academic Success"
   ]
  },
  {
   "cell_type": "markdown",
   "id": "89fcbfcc-7f01-46d0-b6e4-84fa176706b9",
   "metadata": {},
   "source": [
    "Group Member: Erin Da, Lesley Mai, Xiaofei Sun, Yuchen Xu (Group 46)"
   ]
  },
  {
   "cell_type": "markdown",
   "id": "ac384986-f8ad-486d-9562-de4760201c29",
   "metadata": {},
   "source": [
    "## 1. Introduction"
   ]
  },
  {
   "cell_type": "markdown",
   "id": "591389ce-b5e6-44e3-be59-2bb26927febf",
   "metadata": {},
   "source": [
    "Dropout rates and academic success play vital roles within higher education institutions, the academic success not only affects individual students but also affects society at large. Therefore, harnessing the available data to predict students’ dropout and academic success status holds significant worth.\n",
    "\n",
    "This [dataset](https://archive.ics.uci.edu/dataset/697/predict+students+dropout+and+academic+success) is created from a higher education institution related to students enrolled in different undergraduate degrees. The dataset includes information known at the time of student enrollment (academic path, demographics, and social-economic factors) and the students' academic performance at the end of the first and second semesters. Given a student with related features, we can classify the student’s academic status (enrolled, graduate or dropout).\n",
    "\n",
    "**Research question: Using KNN classification algorithm to predict students' dropout and academic success. Additionally, which specific variables have the strongest influence on student dropout and academic success.**"
   ]
  },
  {
   "cell_type": "markdown",
   "id": "44e73476-82a1-41d8-bcb4-268e700dad60",
   "metadata": {},
   "source": [
    "## 2. Preliminary exploratory data analysis"
   ]
  },
  {
   "cell_type": "markdown",
   "id": "7d8166db-b7e6-4ae9-9085-86c735660a4f",
   "metadata": {},
   "source": [
    "First, we load the needed packages below  which will be useful in the upcoming phases of our analysis."
   ]
  },
  {
   "cell_type": "code",
   "execution_count": 1,
   "id": "fa1c20b7-597f-4c87-87da-81d780fbd10f",
   "metadata": {},
   "outputs": [
    {
     "name": "stderr",
     "output_type": "stream",
     "text": [
      "── \u001b[1mAttaching packages\u001b[22m ─────────────────────────────────────── tidyverse 1.3.1 ──\n",
      "\n",
      "\u001b[32m✔\u001b[39m \u001b[34mggplot2\u001b[39m 3.3.6     \u001b[32m✔\u001b[39m \u001b[34mpurrr  \u001b[39m 0.3.4\n",
      "\u001b[32m✔\u001b[39m \u001b[34mtibble \u001b[39m 3.1.7     \u001b[32m✔\u001b[39m \u001b[34mdplyr  \u001b[39m 1.0.9\n",
      "\u001b[32m✔\u001b[39m \u001b[34mtidyr  \u001b[39m 1.2.0     \u001b[32m✔\u001b[39m \u001b[34mstringr\u001b[39m 1.4.0\n",
      "\u001b[32m✔\u001b[39m \u001b[34mreadr  \u001b[39m 2.1.2     \u001b[32m✔\u001b[39m \u001b[34mforcats\u001b[39m 0.5.1\n",
      "\n",
      "── \u001b[1mConflicts\u001b[22m ────────────────────────────────────────── tidyverse_conflicts() ──\n",
      "\u001b[31m✖\u001b[39m \u001b[34mdplyr\u001b[39m::\u001b[32mfilter()\u001b[39m masks \u001b[34mstats\u001b[39m::filter()\n",
      "\u001b[31m✖\u001b[39m \u001b[34mdplyr\u001b[39m::\u001b[32mlag()\u001b[39m    masks \u001b[34mstats\u001b[39m::lag()\n",
      "\n",
      "── \u001b[1mAttaching packages\u001b[22m ────────────────────────────────────── tidymodels 1.0.0 ──\n",
      "\n",
      "\u001b[32m✔\u001b[39m \u001b[34mbroom       \u001b[39m 1.0.0     \u001b[32m✔\u001b[39m \u001b[34mrsample     \u001b[39m 1.0.0\n",
      "\u001b[32m✔\u001b[39m \u001b[34mdials       \u001b[39m 1.0.0     \u001b[32m✔\u001b[39m \u001b[34mtune        \u001b[39m 1.0.0\n",
      "\u001b[32m✔\u001b[39m \u001b[34minfer       \u001b[39m 1.0.2     \u001b[32m✔\u001b[39m \u001b[34mworkflows   \u001b[39m 1.0.0\n",
      "\u001b[32m✔\u001b[39m \u001b[34mmodeldata   \u001b[39m 1.0.0     \u001b[32m✔\u001b[39m \u001b[34mworkflowsets\u001b[39m 1.0.0\n",
      "\u001b[32m✔\u001b[39m \u001b[34mparsnip     \u001b[39m 1.0.0     \u001b[32m✔\u001b[39m \u001b[34myardstick   \u001b[39m 1.0.0\n",
      "\u001b[32m✔\u001b[39m \u001b[34mrecipes     \u001b[39m 1.0.1     \n",
      "\n",
      "── \u001b[1mConflicts\u001b[22m ───────────────────────────────────────── tidymodels_conflicts() ──\n",
      "\u001b[31m✖\u001b[39m \u001b[34mscales\u001b[39m::\u001b[32mdiscard()\u001b[39m masks \u001b[34mpurrr\u001b[39m::discard()\n",
      "\u001b[31m✖\u001b[39m \u001b[34mdplyr\u001b[39m::\u001b[32mfilter()\u001b[39m   masks \u001b[34mstats\u001b[39m::filter()\n",
      "\u001b[31m✖\u001b[39m \u001b[34mrecipes\u001b[39m::\u001b[32mfixed()\u001b[39m  masks \u001b[34mstringr\u001b[39m::fixed()\n",
      "\u001b[31m✖\u001b[39m \u001b[34mdplyr\u001b[39m::\u001b[32mlag()\u001b[39m      masks \u001b[34mstats\u001b[39m::lag()\n",
      "\u001b[31m✖\u001b[39m \u001b[34myardstick\u001b[39m::\u001b[32mspec()\u001b[39m masks \u001b[34mreadr\u001b[39m::spec()\n",
      "\u001b[31m✖\u001b[39m \u001b[34mrecipes\u001b[39m::\u001b[32mstep()\u001b[39m   masks \u001b[34mstats\u001b[39m::step()\n",
      "\u001b[34m•\u001b[39m Use \u001b[32mtidymodels_prefer()\u001b[39m to resolve common conflicts.\n",
      "\n"
     ]
    }
   ],
   "source": [
    "# packages\n",
    "library(tidyverse)\n",
    "library(repr)\n",
    "library(tidymodels)"
   ]
  },
  {
   "cell_type": "markdown",
   "id": "e9c389f8-d1e7-453c-a4f3-a75416d320a2",
   "metadata": {},
   "source": [
    "Our dataset is formatted as a `.csv` file with headers. We will use `read_delim()`to load our data in as this dataset uses `;` as a separator."
   ]
  },
  {
   "cell_type": "code",
   "execution_count": 2,
   "id": "153d2534-085a-4b8c-b7fa-72a919b54284",
   "metadata": {},
   "outputs": [
    {
     "data": {
      "text/html": [
       "<table class=\"dataframe\">\n",
       "<caption>A tibble: 6 × 37</caption>\n",
       "<thead>\n",
       "\t<tr><th scope=col>Marital.status</th><th scope=col>Application.mode</th><th scope=col>Application.order</th><th scope=col>Course</th><th scope=col>Daytime.evening.attendance.</th><th scope=col>Previous.qualification</th><th scope=col>Previous.qualification..grade.</th><th scope=col>Nacionality</th><th scope=col>Mother.s.qualification</th><th scope=col>Father.s.qualification</th><th scope=col>⋯</th><th scope=col>Curricular.units.2nd.sem..credited.</th><th scope=col>Curricular.units.2nd.sem..enrolled.</th><th scope=col>Curricular.units.2nd.sem..evaluations.</th><th scope=col>Curricular.units.2nd.sem..approved.</th><th scope=col>Curricular.units.2nd.sem..grade.</th><th scope=col>Curricular.units.2nd.sem..without.evaluations.</th><th scope=col>Unemployment.rate</th><th scope=col>Inflation.rate</th><th scope=col>GDP</th><th scope=col>Target</th></tr>\n",
       "\t<tr><th scope=col>&lt;dbl&gt;</th><th scope=col>&lt;dbl&gt;</th><th scope=col>&lt;dbl&gt;</th><th scope=col>&lt;dbl&gt;</th><th scope=col>&lt;dbl&gt;</th><th scope=col>&lt;dbl&gt;</th><th scope=col>&lt;dbl&gt;</th><th scope=col>&lt;dbl&gt;</th><th scope=col>&lt;dbl&gt;</th><th scope=col>&lt;dbl&gt;</th><th scope=col>⋯</th><th scope=col>&lt;dbl&gt;</th><th scope=col>&lt;dbl&gt;</th><th scope=col>&lt;dbl&gt;</th><th scope=col>&lt;dbl&gt;</th><th scope=col>&lt;dbl&gt;</th><th scope=col>&lt;dbl&gt;</th><th scope=col>&lt;dbl&gt;</th><th scope=col>&lt;dbl&gt;</th><th scope=col>&lt;dbl&gt;</th><th scope=col>&lt;chr&gt;</th></tr>\n",
       "</thead>\n",
       "<tbody>\n",
       "\t<tr><td>1</td><td>17</td><td>5</td><td> 171</td><td>1</td><td> 1</td><td>122.0</td><td>1</td><td>19</td><td>12</td><td>⋯</td><td>0</td><td>0</td><td> 0</td><td>0</td><td> 0.00000</td><td>0</td><td>10.8</td><td> 1.4</td><td> 1.74</td><td>Dropout </td></tr>\n",
       "\t<tr><td>1</td><td>15</td><td>1</td><td>9254</td><td>1</td><td> 1</td><td>160.0</td><td>1</td><td> 1</td><td> 3</td><td>⋯</td><td>0</td><td>6</td><td> 6</td><td>6</td><td>13.66667</td><td>0</td><td>13.9</td><td>-0.3</td><td> 0.79</td><td>Graduate</td></tr>\n",
       "\t<tr><td>1</td><td> 1</td><td>5</td><td>9070</td><td>1</td><td> 1</td><td>122.0</td><td>1</td><td>37</td><td>37</td><td>⋯</td><td>0</td><td>6</td><td> 0</td><td>0</td><td> 0.00000</td><td>0</td><td>10.8</td><td> 1.4</td><td> 1.74</td><td>Dropout </td></tr>\n",
       "\t<tr><td>1</td><td>17</td><td>2</td><td>9773</td><td>1</td><td> 1</td><td>122.0</td><td>1</td><td>38</td><td>37</td><td>⋯</td><td>0</td><td>6</td><td>10</td><td>5</td><td>12.40000</td><td>0</td><td> 9.4</td><td>-0.8</td><td>-3.12</td><td>Graduate</td></tr>\n",
       "\t<tr><td>2</td><td>39</td><td>1</td><td>8014</td><td>0</td><td> 1</td><td>100.0</td><td>1</td><td>37</td><td>38</td><td>⋯</td><td>0</td><td>6</td><td> 6</td><td>6</td><td>13.00000</td><td>0</td><td>13.9</td><td>-0.3</td><td> 0.79</td><td>Graduate</td></tr>\n",
       "\t<tr><td>2</td><td>39</td><td>1</td><td>9991</td><td>0</td><td>19</td><td>133.1</td><td>1</td><td>37</td><td>37</td><td>⋯</td><td>0</td><td>5</td><td>17</td><td>5</td><td>11.50000</td><td>5</td><td>16.2</td><td> 0.3</td><td>-0.92</td><td>Graduate</td></tr>\n",
       "</tbody>\n",
       "</table>\n"
      ],
      "text/latex": [
       "A tibble: 6 × 37\n",
       "\\begin{tabular}{lllllllllllllllllllll}\n",
       " Marital.status & Application.mode & Application.order & Course & Daytime.evening.attendance. & Previous.qualification & Previous.qualification..grade. & Nacionality & Mother.s.qualification & Father.s.qualification & ⋯ & Curricular.units.2nd.sem..credited. & Curricular.units.2nd.sem..enrolled. & Curricular.units.2nd.sem..evaluations. & Curricular.units.2nd.sem..approved. & Curricular.units.2nd.sem..grade. & Curricular.units.2nd.sem..without.evaluations. & Unemployment.rate & Inflation.rate & GDP & Target\\\\\n",
       " <dbl> & <dbl> & <dbl> & <dbl> & <dbl> & <dbl> & <dbl> & <dbl> & <dbl> & <dbl> & ⋯ & <dbl> & <dbl> & <dbl> & <dbl> & <dbl> & <dbl> & <dbl> & <dbl> & <dbl> & <chr>\\\\\n",
       "\\hline\n",
       "\t 1 & 17 & 5 &  171 & 1 &  1 & 122.0 & 1 & 19 & 12 & ⋯ & 0 & 0 &  0 & 0 &  0.00000 & 0 & 10.8 &  1.4 &  1.74 & Dropout \\\\\n",
       "\t 1 & 15 & 1 & 9254 & 1 &  1 & 160.0 & 1 &  1 &  3 & ⋯ & 0 & 6 &  6 & 6 & 13.66667 & 0 & 13.9 & -0.3 &  0.79 & Graduate\\\\\n",
       "\t 1 &  1 & 5 & 9070 & 1 &  1 & 122.0 & 1 & 37 & 37 & ⋯ & 0 & 6 &  0 & 0 &  0.00000 & 0 & 10.8 &  1.4 &  1.74 & Dropout \\\\\n",
       "\t 1 & 17 & 2 & 9773 & 1 &  1 & 122.0 & 1 & 38 & 37 & ⋯ & 0 & 6 & 10 & 5 & 12.40000 & 0 &  9.4 & -0.8 & -3.12 & Graduate\\\\\n",
       "\t 2 & 39 & 1 & 8014 & 0 &  1 & 100.0 & 1 & 37 & 38 & ⋯ & 0 & 6 &  6 & 6 & 13.00000 & 0 & 13.9 & -0.3 &  0.79 & Graduate\\\\\n",
       "\t 2 & 39 & 1 & 9991 & 0 & 19 & 133.1 & 1 & 37 & 37 & ⋯ & 0 & 5 & 17 & 5 & 11.50000 & 5 & 16.2 &  0.3 & -0.92 & Graduate\\\\\n",
       "\\end{tabular}\n"
      ],
      "text/markdown": [
       "\n",
       "A tibble: 6 × 37\n",
       "\n",
       "| Marital.status &lt;dbl&gt; | Application.mode &lt;dbl&gt; | Application.order &lt;dbl&gt; | Course &lt;dbl&gt; | Daytime.evening.attendance. &lt;dbl&gt; | Previous.qualification &lt;dbl&gt; | Previous.qualification..grade. &lt;dbl&gt; | Nacionality &lt;dbl&gt; | Mother.s.qualification &lt;dbl&gt; | Father.s.qualification &lt;dbl&gt; | ⋯ ⋯ | Curricular.units.2nd.sem..credited. &lt;dbl&gt; | Curricular.units.2nd.sem..enrolled. &lt;dbl&gt; | Curricular.units.2nd.sem..evaluations. &lt;dbl&gt; | Curricular.units.2nd.sem..approved. &lt;dbl&gt; | Curricular.units.2nd.sem..grade. &lt;dbl&gt; | Curricular.units.2nd.sem..without.evaluations. &lt;dbl&gt; | Unemployment.rate &lt;dbl&gt; | Inflation.rate &lt;dbl&gt; | GDP &lt;dbl&gt; | Target &lt;chr&gt; |\n",
       "|---|---|---|---|---|---|---|---|---|---|---|---|---|---|---|---|---|---|---|---|---|\n",
       "| 1 | 17 | 5 |  171 | 1 |  1 | 122.0 | 1 | 19 | 12 | ⋯ | 0 | 0 |  0 | 0 |  0.00000 | 0 | 10.8 |  1.4 |  1.74 | Dropout  |\n",
       "| 1 | 15 | 1 | 9254 | 1 |  1 | 160.0 | 1 |  1 |  3 | ⋯ | 0 | 6 |  6 | 6 | 13.66667 | 0 | 13.9 | -0.3 |  0.79 | Graduate |\n",
       "| 1 |  1 | 5 | 9070 | 1 |  1 | 122.0 | 1 | 37 | 37 | ⋯ | 0 | 6 |  0 | 0 |  0.00000 | 0 | 10.8 |  1.4 |  1.74 | Dropout  |\n",
       "| 1 | 17 | 2 | 9773 | 1 |  1 | 122.0 | 1 | 38 | 37 | ⋯ | 0 | 6 | 10 | 5 | 12.40000 | 0 |  9.4 | -0.8 | -3.12 | Graduate |\n",
       "| 2 | 39 | 1 | 8014 | 0 |  1 | 100.0 | 1 | 37 | 38 | ⋯ | 0 | 6 |  6 | 6 | 13.00000 | 0 | 13.9 | -0.3 |  0.79 | Graduate |\n",
       "| 2 | 39 | 1 | 9991 | 0 | 19 | 133.1 | 1 | 37 | 37 | ⋯ | 0 | 5 | 17 | 5 | 11.50000 | 5 | 16.2 |  0.3 | -0.92 | Graduate |\n",
       "\n"
      ],
      "text/plain": [
       "  Marital.status Application.mode Application.order Course\n",
       "1 1              17               5                  171  \n",
       "2 1              15               1                 9254  \n",
       "3 1               1               5                 9070  \n",
       "4 1              17               2                 9773  \n",
       "5 2              39               1                 8014  \n",
       "6 2              39               1                 9991  \n",
       "  Daytime.evening.attendance. Previous.qualification\n",
       "1 1                            1                    \n",
       "2 1                            1                    \n",
       "3 1                            1                    \n",
       "4 1                            1                    \n",
       "5 0                            1                    \n",
       "6 0                           19                    \n",
       "  Previous.qualification..grade. Nacionality Mother.s.qualification\n",
       "1 122.0                          1           19                    \n",
       "2 160.0                          1            1                    \n",
       "3 122.0                          1           37                    \n",
       "4 122.0                          1           38                    \n",
       "5 100.0                          1           37                    \n",
       "6 133.1                          1           37                    \n",
       "  Father.s.qualification ⋯ Curricular.units.2nd.sem..credited.\n",
       "1 12                     ⋯ 0                                  \n",
       "2  3                     ⋯ 0                                  \n",
       "3 37                     ⋯ 0                                  \n",
       "4 37                     ⋯ 0                                  \n",
       "5 38                     ⋯ 0                                  \n",
       "6 37                     ⋯ 0                                  \n",
       "  Curricular.units.2nd.sem..enrolled. Curricular.units.2nd.sem..evaluations.\n",
       "1 0                                    0                                    \n",
       "2 6                                    6                                    \n",
       "3 6                                    0                                    \n",
       "4 6                                   10                                    \n",
       "5 6                                    6                                    \n",
       "6 5                                   17                                    \n",
       "  Curricular.units.2nd.sem..approved. Curricular.units.2nd.sem..grade.\n",
       "1 0                                    0.00000                        \n",
       "2 6                                   13.66667                        \n",
       "3 0                                    0.00000                        \n",
       "4 5                                   12.40000                        \n",
       "5 6                                   13.00000                        \n",
       "6 5                                   11.50000                        \n",
       "  Curricular.units.2nd.sem..without.evaluations. Unemployment.rate\n",
       "1 0                                              10.8             \n",
       "2 0                                              13.9             \n",
       "3 0                                              10.8             \n",
       "4 0                                               9.4             \n",
       "5 0                                              13.9             \n",
       "6 5                                              16.2             \n",
       "  Inflation.rate GDP   Target  \n",
       "1  1.4            1.74 Dropout \n",
       "2 -0.3            0.79 Graduate\n",
       "3  1.4            1.74 Dropout \n",
       "4 -0.8           -3.12 Graduate\n",
       "5 -0.3            0.79 Graduate\n",
       "6  0.3           -0.92 Graduate"
      ]
     },
     "metadata": {},
     "output_type": "display_data"
    }
   ],
   "source": [
    "# load data\n",
    "students_data <- read_delim(\"https://raw.githubusercontent.com/lesleymai/ds_group/main/academic_success.csv\", show_col_types = FALSE)\n",
    "# convert column names to valid R names\n",
    "colnames(students_data) <- make.names(colnames(students_data))\n",
    "head(students_data)"
   ]
  },
  {
   "cell_type": "code",
   "execution_count": 3,
   "id": "a40207e0-60e7-4958-9aac-bdf4f8841369",
   "metadata": {},
   "outputs": [
    {
     "name": "stdout",
     "output_type": "stream",
     "text": [
      "[1] 0\n"
     ]
    }
   ],
   "source": [
    "# count the number of rows containing at least one NA\n",
    "num_na_rows <- sum(apply(is.na(students_data), 1, any))\n",
    "print(num_na_rows)"
   ]
  },
  {
   "cell_type": "markdown",
   "id": "43e3f8b6-bf6d-487c-af48-b35d56a4c522",
   "metadata": {},
   "source": [
    "The whole table contains 37 explanatory variables, based on KNN classification algorithm, we keep the potential exploratory variables to build the classifer. In this project, we will choose below columns for prediction."
   ]
  },
  {
   "cell_type": "code",
   "execution_count": 4,
   "id": "91938f50-b41a-4baa-8d11-97d857b2869a",
   "metadata": {},
   "outputs": [
    {
     "data": {
      "text/html": [
       "<table class=\"dataframe\">\n",
       "<caption>A tibble: 6 × 15</caption>\n",
       "<thead>\n",
       "\t<tr><th scope=col>Course</th><th scope=col>Daytime.evening.attendance.</th><th scope=col>Mother.s.qualification</th><th scope=col>Father.s.qualification</th><th scope=col>Mother.s.occupation</th><th scope=col>Father.s.occupation</th><th scope=col>Admission.grade</th><th scope=col>Displaced</th><th scope=col>Debtor</th><th scope=col>Scholarship.holder</th><th scope=col>Curricular.units.1st.sem..enrolled.</th><th scope=col>Curricular.units.1st.sem..grade.</th><th scope=col>Curricular.units.2nd.sem..enrolled.</th><th scope=col>Curricular.units.2nd.sem..grade.</th><th scope=col>Target</th></tr>\n",
       "\t<tr><th scope=col>&lt;dbl&gt;</th><th scope=col>&lt;dbl&gt;</th><th scope=col>&lt;dbl&gt;</th><th scope=col>&lt;dbl&gt;</th><th scope=col>&lt;dbl&gt;</th><th scope=col>&lt;dbl&gt;</th><th scope=col>&lt;dbl&gt;</th><th scope=col>&lt;dbl&gt;</th><th scope=col>&lt;dbl&gt;</th><th scope=col>&lt;dbl&gt;</th><th scope=col>&lt;dbl&gt;</th><th scope=col>&lt;dbl&gt;</th><th scope=col>&lt;dbl&gt;</th><th scope=col>&lt;dbl&gt;</th><th scope=col>&lt;chr&gt;</th></tr>\n",
       "</thead>\n",
       "<tbody>\n",
       "\t<tr><td> 171</td><td>1</td><td>19</td><td>12</td><td>5</td><td>9</td><td>127.3</td><td>1</td><td>0</td><td>0</td><td>0</td><td> 0.00000</td><td>0</td><td> 0.00000</td><td>Dropout </td></tr>\n",
       "\t<tr><td>9254</td><td>1</td><td> 1</td><td> 3</td><td>3</td><td>3</td><td>142.5</td><td>1</td><td>0</td><td>0</td><td>6</td><td>14.00000</td><td>6</td><td>13.66667</td><td>Graduate</td></tr>\n",
       "\t<tr><td>9070</td><td>1</td><td>37</td><td>37</td><td>9</td><td>9</td><td>124.8</td><td>1</td><td>0</td><td>0</td><td>6</td><td> 0.00000</td><td>6</td><td> 0.00000</td><td>Dropout </td></tr>\n",
       "\t<tr><td>9773</td><td>1</td><td>38</td><td>37</td><td>5</td><td>3</td><td>119.6</td><td>1</td><td>0</td><td>0</td><td>6</td><td>13.42857</td><td>6</td><td>12.40000</td><td>Graduate</td></tr>\n",
       "\t<tr><td>8014</td><td>0</td><td>37</td><td>38</td><td>9</td><td>9</td><td>141.5</td><td>0</td><td>0</td><td>0</td><td>6</td><td>12.33333</td><td>6</td><td>13.00000</td><td>Graduate</td></tr>\n",
       "\t<tr><td>9991</td><td>0</td><td>37</td><td>37</td><td>9</td><td>7</td><td>114.8</td><td>0</td><td>1</td><td>0</td><td>5</td><td>11.85714</td><td>5</td><td>11.50000</td><td>Graduate</td></tr>\n",
       "</tbody>\n",
       "</table>\n"
      ],
      "text/latex": [
       "A tibble: 6 × 15\n",
       "\\begin{tabular}{lllllllllllllll}\n",
       " Course & Daytime.evening.attendance. & Mother.s.qualification & Father.s.qualification & Mother.s.occupation & Father.s.occupation & Admission.grade & Displaced & Debtor & Scholarship.holder & Curricular.units.1st.sem..enrolled. & Curricular.units.1st.sem..grade. & Curricular.units.2nd.sem..enrolled. & Curricular.units.2nd.sem..grade. & Target\\\\\n",
       " <dbl> & <dbl> & <dbl> & <dbl> & <dbl> & <dbl> & <dbl> & <dbl> & <dbl> & <dbl> & <dbl> & <dbl> & <dbl> & <dbl> & <chr>\\\\\n",
       "\\hline\n",
       "\t  171 & 1 & 19 & 12 & 5 & 9 & 127.3 & 1 & 0 & 0 & 0 &  0.00000 & 0 &  0.00000 & Dropout \\\\\n",
       "\t 9254 & 1 &  1 &  3 & 3 & 3 & 142.5 & 1 & 0 & 0 & 6 & 14.00000 & 6 & 13.66667 & Graduate\\\\\n",
       "\t 9070 & 1 & 37 & 37 & 9 & 9 & 124.8 & 1 & 0 & 0 & 6 &  0.00000 & 6 &  0.00000 & Dropout \\\\\n",
       "\t 9773 & 1 & 38 & 37 & 5 & 3 & 119.6 & 1 & 0 & 0 & 6 & 13.42857 & 6 & 12.40000 & Graduate\\\\\n",
       "\t 8014 & 0 & 37 & 38 & 9 & 9 & 141.5 & 0 & 0 & 0 & 6 & 12.33333 & 6 & 13.00000 & Graduate\\\\\n",
       "\t 9991 & 0 & 37 & 37 & 9 & 7 & 114.8 & 0 & 1 & 0 & 5 & 11.85714 & 5 & 11.50000 & Graduate\\\\\n",
       "\\end{tabular}\n"
      ],
      "text/markdown": [
       "\n",
       "A tibble: 6 × 15\n",
       "\n",
       "| Course &lt;dbl&gt; | Daytime.evening.attendance. &lt;dbl&gt; | Mother.s.qualification &lt;dbl&gt; | Father.s.qualification &lt;dbl&gt; | Mother.s.occupation &lt;dbl&gt; | Father.s.occupation &lt;dbl&gt; | Admission.grade &lt;dbl&gt; | Displaced &lt;dbl&gt; | Debtor &lt;dbl&gt; | Scholarship.holder &lt;dbl&gt; | Curricular.units.1st.sem..enrolled. &lt;dbl&gt; | Curricular.units.1st.sem..grade. &lt;dbl&gt; | Curricular.units.2nd.sem..enrolled. &lt;dbl&gt; | Curricular.units.2nd.sem..grade. &lt;dbl&gt; | Target &lt;chr&gt; |\n",
       "|---|---|---|---|---|---|---|---|---|---|---|---|---|---|---|\n",
       "|  171 | 1 | 19 | 12 | 5 | 9 | 127.3 | 1 | 0 | 0 | 0 |  0.00000 | 0 |  0.00000 | Dropout  |\n",
       "| 9254 | 1 |  1 |  3 | 3 | 3 | 142.5 | 1 | 0 | 0 | 6 | 14.00000 | 6 | 13.66667 | Graduate |\n",
       "| 9070 | 1 | 37 | 37 | 9 | 9 | 124.8 | 1 | 0 | 0 | 6 |  0.00000 | 6 |  0.00000 | Dropout  |\n",
       "| 9773 | 1 | 38 | 37 | 5 | 3 | 119.6 | 1 | 0 | 0 | 6 | 13.42857 | 6 | 12.40000 | Graduate |\n",
       "| 8014 | 0 | 37 | 38 | 9 | 9 | 141.5 | 0 | 0 | 0 | 6 | 12.33333 | 6 | 13.00000 | Graduate |\n",
       "| 9991 | 0 | 37 | 37 | 9 | 7 | 114.8 | 0 | 1 | 0 | 5 | 11.85714 | 5 | 11.50000 | Graduate |\n",
       "\n"
      ],
      "text/plain": [
       "  Course Daytime.evening.attendance. Mother.s.qualification\n",
       "1  171   1                           19                    \n",
       "2 9254   1                            1                    \n",
       "3 9070   1                           37                    \n",
       "4 9773   1                           38                    \n",
       "5 8014   0                           37                    \n",
       "6 9991   0                           37                    \n",
       "  Father.s.qualification Mother.s.occupation Father.s.occupation\n",
       "1 12                     5                   9                  \n",
       "2  3                     3                   3                  \n",
       "3 37                     9                   9                  \n",
       "4 37                     5                   3                  \n",
       "5 38                     9                   9                  \n",
       "6 37                     9                   7                  \n",
       "  Admission.grade Displaced Debtor Scholarship.holder\n",
       "1 127.3           1         0      0                 \n",
       "2 142.5           1         0      0                 \n",
       "3 124.8           1         0      0                 \n",
       "4 119.6           1         0      0                 \n",
       "5 141.5           0         0      0                 \n",
       "6 114.8           0         1      0                 \n",
       "  Curricular.units.1st.sem..enrolled. Curricular.units.1st.sem..grade.\n",
       "1 0                                    0.00000                        \n",
       "2 6                                   14.00000                        \n",
       "3 6                                    0.00000                        \n",
       "4 6                                   13.42857                        \n",
       "5 6                                   12.33333                        \n",
       "6 5                                   11.85714                        \n",
       "  Curricular.units.2nd.sem..enrolled. Curricular.units.2nd.sem..grade. Target  \n",
       "1 0                                    0.00000                         Dropout \n",
       "2 6                                   13.66667                         Graduate\n",
       "3 6                                    0.00000                         Dropout \n",
       "4 6                                   12.40000                         Graduate\n",
       "5 6                                   13.00000                         Graduate\n",
       "6 5                                   11.50000                         Graduate"
      ]
     },
     "metadata": {},
     "output_type": "display_data"
    }
   ],
   "source": [
    "# select potential exploratory variables\n",
    "students_data <- students_data |>\n",
    "    select(Course, \n",
    "           Daytime.evening.attendance., \n",
    "           Mother.s.qualification, \n",
    "           Father.s.qualification, \n",
    "           Mother.s.occupation, \n",
    "           Father.s.occupation, \n",
    "           Admission.grade,\n",
    "           Displaced, \n",
    "           Debtor, \n",
    "           Scholarship.holder, \n",
    "           Curricular.units.1st.sem..enrolled.,\n",
    "           Curricular.units.1st.sem..grade.,\n",
    "           Curricular.units.2nd.sem..enrolled.,\n",
    "           Curricular.units.2nd.sem..grade.,\n",
    "           Target)\n",
    "head(students_data)"
   ]
  },
  {
   "cell_type": "markdown",
   "id": "933d24e0-c8ba-4398-93fc-9b5860fa43f5",
   "metadata": {},
   "source": [
    "we need to split a data set into a `training_set` and `test_set` to evaluate our classifier. Thus, we let R randomly split the data."
   ]
  },
  {
   "cell_type": "code",
   "execution_count": 5,
   "id": "4ea43df7-7b7c-495c-b768-fd5a193978ed",
   "metadata": {},
   "outputs": [],
   "source": [
    "student_split <- initial_split(students_data, prop = 0.75, strata = Target)\n",
    "\n",
    "student_train <- training(student_split)\n",
    "student_test <- testing(student_split) "
   ]
  },
  {
   "cell_type": "markdown",
   "id": "4444415b-52f9-467f-ba57-3bbe35c1efb7",
   "metadata": {},
   "source": [
    "We choose mother's occupation's distritbution as an example for our visualizations."
   ]
  },
  {
   "cell_type": "code",
   "execution_count": 6,
   "id": "e318f53a-ebb2-4d5e-a33a-7b1d7ad90a88",
   "metadata": {},
   "outputs": [
    {
     "data": {
      "text/html": [
       "<table class=\"dataframe\">\n",
       "<caption>A tibble: 6 × 3</caption>\n",
       "<thead>\n",
       "\t<tr><th scope=col>Mother.s.occupation</th><th scope=col>Target</th><th scope=col>count</th></tr>\n",
       "\t<tr><th scope=col>&lt;dbl&gt;</th><th scope=col>&lt;chr&gt;</th><th scope=col>&lt;int&gt;</th></tr>\n",
       "</thead>\n",
       "<tbody>\n",
       "\t<tr><td>0</td><td>Dropout </td><td>79</td></tr>\n",
       "\t<tr><td>0</td><td>Enrolled</td><td> 1</td></tr>\n",
       "\t<tr><td>0</td><td>Graduate</td><td>33</td></tr>\n",
       "\t<tr><td>1</td><td>Dropout </td><td>26</td></tr>\n",
       "\t<tr><td>1</td><td>Enrolled</td><td>10</td></tr>\n",
       "\t<tr><td>1</td><td>Graduate</td><td>40</td></tr>\n",
       "</tbody>\n",
       "</table>\n"
      ],
      "text/latex": [
       "A tibble: 6 × 3\n",
       "\\begin{tabular}{lll}\n",
       " Mother.s.occupation & Target & count\\\\\n",
       " <dbl> & <chr> & <int>\\\\\n",
       "\\hline\n",
       "\t 0 & Dropout  & 79\\\\\n",
       "\t 0 & Enrolled &  1\\\\\n",
       "\t 0 & Graduate & 33\\\\\n",
       "\t 1 & Dropout  & 26\\\\\n",
       "\t 1 & Enrolled & 10\\\\\n",
       "\t 1 & Graduate & 40\\\\\n",
       "\\end{tabular}\n"
      ],
      "text/markdown": [
       "\n",
       "A tibble: 6 × 3\n",
       "\n",
       "| Mother.s.occupation &lt;dbl&gt; | Target &lt;chr&gt; | count &lt;int&gt; |\n",
       "|---|---|---|\n",
       "| 0 | Dropout  | 79 |\n",
       "| 0 | Enrolled |  1 |\n",
       "| 0 | Graduate | 33 |\n",
       "| 1 | Dropout  | 26 |\n",
       "| 1 | Enrolled | 10 |\n",
       "| 1 | Graduate | 40 |\n",
       "\n"
      ],
      "text/plain": [
       "  Mother.s.occupation Target   count\n",
       "1 0                   Dropout  79   \n",
       "2 0                   Enrolled  1   \n",
       "3 0                   Graduate 33   \n",
       "4 1                   Dropout  26   \n",
       "5 1                   Enrolled 10   \n",
       "6 1                   Graduate 40   "
      ]
     },
     "metadata": {},
     "output_type": "display_data"
    }
   ],
   "source": [
    "student_train <- student_train |>\n",
    "    group_by(Mother.s.occupation, Target) |> # The \"group_by\" function is called to group the data by the variable \"Mother.s.occupation\".\n",
    "    summarize(count = n(), .groups = \"drop\") # The \"summarize\" function is called to calculate the number of people in each occupation.\n",
    "    \n",
    "head(student_train)"
   ]
  },
  {
   "cell_type": "code",
   "execution_count": 7,
   "id": "1d380c07-2af7-4467-b674-8d26f6217f05",
   "metadata": {},
   "outputs": [
    {
     "data": {
      "image/png": "[encoded data removed]",
      "text/plain": [
       "plot without title"
      ]
     },
     "metadata": {
      "image/png": {
       "height": 600,
       "width": 600
      }
     },
     "output_type": "display_data"
    }
   ],
   "source": [
    "# visualizations\n",
    "options(repr.plot.width = 10, repr.plot.height = 10)\n",
    "\n",
    "mon_op_dis <- student_train |>\n",
    "    ggplot(aes(x = Mother.s.occupation)) +\n",
    "# the `geom_histogram` is helpful for making a distribution plot.\n",
    "    geom_histogram(fill = \"dodgerblue3\", color = \"lightgrey\", bins = 12) +\n",
    "    labs(x = \"Mother's occupation\", y = \"Count\", title = \"Mother's occupation's Distribution\") +\n",
    "    theme(text = element_text(size = 18)) +\n",
    "    facet_grid(rows = vars(Target))\n",
    "mon_op_dis"
   ]
  },
  {
   "cell_type": "markdown",
   "id": "85d51aa3-4a51-4b59-8109-9c8dad843644",
   "metadata": {},
   "source": [
    "## 3. Methods"
   ]
  },
  {
   "cell_type": "markdown",
   "id": "ec758034-df84-42de-8641-5b3804175aca",
   "metadata": {},
   "source": [
    "We first select the columns in the dataset we need to analyze, and use group_by() and summarize() to wrangle several columns, such as mother's occupation. And then using appropriate types of plots to visualize the distribution of the variables. We also split the dataset into training set and testing set to predict the classification of new observations."
   ]
  },
  {
   "cell_type": "markdown",
   "id": "630dd6b4-61e3-4873-aee0-cebe1d52effb",
   "metadata": {},
   "source": [
    "We will use the mother's occupation as a visual representation. By constructing a histogram with the mother's occupation on the x-axis and the number of students on the y-axis, split into three plots based on the target variable, we can observe the influence of different mother's occupations on dropout and academic success status."
   ]
  },
  {
   "cell_type": "markdown",
   "id": "97b913ba-78de-4969-bac1-fe7cf702a09c",
   "metadata": {},
   "source": [
    "## 4. Expected outcomes and significance"
   ]
  },
  {
   "cell_type": "markdown",
   "id": "5e6b6a5e-fdcd-4b99-87db-563553da114c",
   "metadata": {},
   "source": [
    "We aim to examine the distribution of various factors in family background, students' performance indicators, as well as financial conditions. By doing so, we intend to identify the factors that significantly influence students' dropout rates and academic success statuses."
   ]
  },
  {
   "cell_type": "markdown",
   "id": "91ce1bad-243b-45ad-b802-fd84397c4160",
   "metadata": {},
   "source": [
    "The results of this study can have a significant impact on educational institutions. Based on a review of the factors identified in the study on student academic outcomes, it can help administrators develop strategies that allow students from diverse backgrounds to improve their chances of success."
   ]
  },
  {
   "cell_type": "markdown",
   "id": "761f2583-a77c-46e0-bc2b-a792781a4b8b",
   "metadata": {},
   "source": [
    "By understanding these factors, educational institutions can develop corresponding approaches to help current students improve the successful graduation rates. The future questions leading to our project could be how educational institutions can set up more practical policies on scholarship to help students with financial difficulties to finish their degree successfully."
   ]
  },
  {
   "cell_type": "markdown",
   "id": "9c76f802-1477-4550-8a09-c7337a14adca",
   "metadata": {},
   "source": [
    "## Reference: \n",
    "- Data Background: https://www.mdpi.com/2306-5729/7/11/146\n",
    "- Data Source: https://archive.ics.uci.edu/dataset/697/predict+students+dropout+and+academic+success\n"
   ]
  },
  {
   "cell_type": "code",
   "execution_count": null,
   "id": "406b4102-35f6-44a4-a6db-fd242b3d697b",
   "metadata": {},
   "outputs": [],
   "source": []
  }
 ],
 "metadata": {
  "kernelspec": {
   "display_name": "R",
   "language": "R",
   "name": "ir"
  },
  "language_info": {
   "codemirror_mode": "r",
   "file_extension": ".r",
   "mimetype": "text/x-r-source",
   "name": "R",
   "pygments_lexer": "r",
   "version": "4.1.3"
  }
 },
 "nbformat": 4,
 "nbformat_minor": 5
}
