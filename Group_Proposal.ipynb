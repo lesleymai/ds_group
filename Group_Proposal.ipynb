{
 "cells": [
  {
   "cell_type": "markdown",
   "id": "11d69bda-8ca2-4abd-9eda-0c6a807b96c9",
   "metadata": {},
   "source": [
    "# Group Proposal \n"
   ]
  },
  {
   "cell_type": "markdown",
   "id": "89fcbfcc-7f01-46d0-b6e4-84fa176706b9",
   "metadata": {},
   "source": [
    "Group Member: Erin Da, Lesley Mai, Xiaofei Sun, Yuchen Xu"
   ]
  },
  {
   "cell_type": "markdown",
   "id": "f90f3bf0-38c8-4d6c-a0dd-064c62987b85",
   "metadata": {},
   "source": [
    "`Marital status`: The marital status of the student. (Categorical)\n",
    "\n",
    "`Application mode`: The method of application used by the student. (Categorical)\n",
    "\n",
    "`Application order`: The order in which the student applied. (Numerical)\n",
    "\n",
    "`Course`: The course taken by the student (Categorical)\n",
    "\n",
    "`Daytime/evening attendance`: Whether the student attends classes during the day or in the evening. (Categorical)\n",
    "\n",
    "`Previous qualification`: The qualification obtained by the student before enrolling in higher education. (Categorical)\n",
    "\n",
    "`Nacionality`: The nationality of the student. (Categorical)\n",
    "\n",
    "`Mother's qualification`: The qualification of the student's mother. (Categorical)\n",
    "\n",
    "`Father's qualification`: The qualification of the student's father. (Categorical)\n",
    "\n",
    "`Mother's occupation`: The occupation of the student's mother. (Categorical)\n",
    "\n",
    "`Father's occupation`: The occupation of the student's father. (Categorical)\n",
    "\n",
    "`Displaced`: Whether the student is a displaced person. (Categorical)\n",
    "\n",
    "`Educational special needs`: Whether the student has any special educational needs. (Categorical)\n",
    "\n",
    "`Debtor`: Whether the student is a debtor. (Categorical)\n",
    "\n",
    "`Tuition fees up to date`: Whether the student's tuition fees are up to date. (Categorical)\n",
    "\n",
    "`Gender`: The gender of the student. (Categorical)\n",
    "\n",
    "`Scholarship holder`: Whether the student is a scholarship holder. (Categorical)\n",
    "\n",
    "`Age at enrollment`: The age of the student at the time of enrollment. (Numerical)\n",
    "\n",
    "`International`: Whether the student is an international student. (Categorical)\n",
    "\n",
    "`Curricular units 1st sem (credited)`: The number of curricular units credited by the student in the first semester. (Numerical)\n",
    "\n",
    "`Curricular units 1st sem (enrolled)`: The number of curricular units enrolled by the student in the first semester. \n",
    "(Numerical)\n",
    "\n",
    "`Curricular units 1st sem (evaluations)`: The number of curricular units evaluated by the student in the first semester. (Numerical)\n",
    "\n",
    "`Curricular units 1st sem (approved)`: The number of curricular units approved by the student in the first semester. (Numerical)\n"
   ]
  },
  {
   "cell_type": "code",
   "execution_count": null,
   "id": "56a33599-ce13-4a57-b5be-05d2fcc13ed9",
   "metadata": {},
   "outputs": [],
   "source": []
  }
 ],
 "metadata": {
  "kernelspec": {
   "display_name": "R",
   "language": "R",
   "name": "ir"
  },
  "language_info": {
   "codemirror_mode": "r",
   "file_extension": ".r",
   "mimetype": "text/x-r-source",
   "name": "R",
   "pygments_lexer": "r",
   "version": "4.1.3"
  }
 },
 "nbformat": 4,
 "nbformat_minor": 5
}
