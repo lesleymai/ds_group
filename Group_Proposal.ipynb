{
 "cells": [
  {
   "cell_type": "markdown",
   "id": "11d69bda-8ca2-4abd-9eda-0c6a807b96c9",
   "metadata": {},
   "source": [
    "# Group Proposal \n"
   ]
  },
  {
   "cell_type": "markdown",
   "id": "89fcbfcc-7f01-46d0-b6e4-84fa176706b9",
   "metadata": {},
   "source": [
    "Group Member: Erin Da, Lesley Mai, Xiaofei Sun, Yuchen Xu"
   ]
  },
  {
   "cell_type": "code",
   "execution_count": null,
   "id": "f3799fe7-7341-4530-9f1d-123a2c15475e",
   "metadata": {},
   "outputs": [],
   "source": []
  }
 ],
 "metadata": {
  "kernelspec": {
   "display_name": "R",
   "language": "R",
   "name": "ir"
  },
  "language_info": {
   "codemirror_mode": "r",
   "file_extension": ".r",
   "mimetype": "text/x-r-source",
   "name": "R",
   "pygments_lexer": "r",
   "version": "4.1.3"
  }
 },
 "nbformat": 4,
 "nbformat_minor": 5
}
